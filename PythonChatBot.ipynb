{
  "nbformat": 4,
  "nbformat_minor": 0,
  "metadata": {
    "colab": {
      "name": "PythonChatBot.ipynb",
      "provenance": [],
      "collapsed_sections": [],
      "authorship_tag": "ABX9TyPnHVKd2wEGErXzLhLOi7Xs",
      "include_colab_link": true
    },
    "kernelspec": {
      "name": "python3",
      "display_name": "Python 3"
    },
    "language_info": {
      "name": "python"
    }
  },
  "cells": [
    {
      "cell_type": "markdown",
      "metadata": {
        "id": "view-in-github",
        "colab_type": "text"
      },
      "source": [
        "<a href=\"https://colab.research.google.com/github/pasansamara96/pythonchatbot/blob/main/PythonChatBot.ipynb\" target=\"_parent\"><img src=\"https://colab.research.google.com/assets/colab-badge.svg\" alt=\"Open In Colab\"/></a>"
      ]
    },
    {
      "cell_type": "markdown",
      "source": [
        "## Importing Dependencies"
      ],
      "metadata": {
        "id": "hMwG8v0o-rYA"
      }
    },
    {
      "cell_type": "code",
      "execution_count": 97,
      "metadata": {
        "id": "4d7DVYcaFwS5"
      },
      "outputs": [],
      "source": [
        "import numpy as np\n",
        "import nltk\n",
        "import string\n",
        "import random\n",
        "# %pip install speechRecognition"
      ]
    },
    {
      "cell_type": "markdown",
      "source": [
        "## Importing the knowledge base/Corpus"
      ],
      "metadata": {
        "id": "1TGOdBwMF9vW"
      }
    },
    {
      "cell_type": "code",
      "source": [
        "file=open('wsnuav.txt', 'r', errors='ignore')\n",
        "raw_doc=file.read().lower()\n",
        "nltk.download('punkt')\n",
        "nltk.download('wordnet')\n",
        "sent_tokens= nltk.sent_tokenize(raw_doc)\n",
        "word_tokens = nltk.word_tokenize(raw_doc)\n"
      ],
      "metadata": {
        "colab": {
          "base_uri": "https://localhost:8080/"
        },
        "id": "FBKLJIN5GFxa",
        "outputId": "7b2a7514-ed3f-4483-f220-59b519e7dad4"
      },
      "execution_count": 98,
      "outputs": [
        {
          "output_type": "stream",
          "name": "stdout",
          "text": [
            "[nltk_data] Downloading package punkt to /root/nltk_data...\n",
            "[nltk_data]   Package punkt is already up-to-date!\n",
            "[nltk_data] Downloading package wordnet to /root/nltk_data...\n",
            "[nltk_data]   Package wordnet is already up-to-date!\n"
          ]
        }
      ]
    },
    {
      "cell_type": "code",
      "source": [
        "sent_tokens[:2]"
      ],
      "metadata": {
        "colab": {
          "base_uri": "https://localhost:8080/"
        },
        "id": "uxnuIldtJM7T",
        "outputId": "4afa32ef-7dc4-41f6-972a-6ca6ead0e5c3"
      },
      "execution_count": 99,
      "outputs": [
        {
          "output_type": "execute_result",
          "data": {
            "text/plain": [
              "['enhance data collection process of a uav-aided low power iot wireless sensor network\\n\\nabstract:\\n\\namalgamation of low power iot devices in wireless sensor networks (wsns) has enhanced the usage of wsns as it lessens the requirements of total power consumption.',\n",
              " 'most such iot devices comparatively employ short-range radio access technologies such as bluetooth low energy (ble) to transfer sensor data.']"
            ]
          },
          "metadata": {},
          "execution_count": 99
        }
      ]
    },
    {
      "cell_type": "code",
      "source": [
        "word_tokens[:2]"
      ],
      "metadata": {
        "colab": {
          "base_uri": "https://localhost:8080/"
        },
        "id": "3rrs64ghJWR4",
        "outputId": "92ab3b3a-b16f-40a9-e149-32ae4ff73808"
      },
      "execution_count": 100,
      "outputs": [
        {
          "output_type": "execute_result",
          "data": {
            "text/plain": [
              "['enhance', 'data']"
            ]
          },
          "metadata": {},
          "execution_count": 100
        }
      ]
    },
    {
      "cell_type": "markdown",
      "source": [
        "## Data Preprocessing"
      ],
      "metadata": {
        "id": "929GkhmdGFIn"
      }
    },
    {
      "cell_type": "code",
      "source": [
        "lemmer = nltk.stem.WordNetLemmatizer()\n",
        "\n",
        "def LemTokens(tokens):\n",
        "  return [lemmer.lemmatize(token) for token in tokens]\n",
        "\n",
        "remove_punct_dict=dict((ord(punct), None) for punct in string.punctuation)\n",
        "\n",
        "def LemNormalize(text):\n",
        "  return LemTokens(nltk.word_tokenize(text.lower().translate(remove_punct_dict)))"
      ],
      "metadata": {
        "id": "-V9dZGIMJfcG"
      },
      "execution_count": 101,
      "outputs": []
    },
    {
      "cell_type": "code",
      "source": [
        "greet_inputs = (\"hello\", \"hey\", \"hi\", \"hey there\", \"what's up\", \"sup\")\n",
        "greet_responses = [\"hi\", \"hello\", \"hey\", \"You talking to me? Nice...\", \"Greetings, human.\", \"*tips hat*\"]\n",
        "\n",
        "def greet(sentence):\n",
        "  for word in sentence.split():\n",
        "    if word.lower() in greet_inputs:\n",
        "      return random.choice(greet_responses)"
      ],
      "metadata": {
        "id": "8CENNkJyKmHp"
      },
      "execution_count": 102,
      "outputs": []
    },
    {
      "cell_type": "code",
      "source": [
        "from sklearn.feature_extraction.text import TfidfVectorizer\n",
        "from sklearn.metrics.pairwise import cosine_similarity"
      ],
      "metadata": {
        "id": "VeTnTUYNL4Kv"
      },
      "execution_count": 103,
      "outputs": []
    },
    {
      "cell_type": "markdown",
      "source": [
        "## Generating a response"
      ],
      "metadata": {
        "id": "KVgrcCG4GMuK"
      }
    },
    {
      "cell_type": "code",
      "source": [
        "def response(user_response):\n",
        "  robo1_response=''\n",
        "  TfidfVec = TfidfVectorizer(tokenizer=LemNormalize, stop_words='english')\n",
        "  tfidf = TfidfVec.fit_transform(sent_tokens)\n",
        "  vals = cosine_similarity(tfidf[-1], tfidf)\n",
        "  idx=vals.argsort()[0][-2]\n",
        "  flat = vals.flatten()\n",
        "  flat.sort()\n",
        "  req_tfidf = flat[-2]\n",
        "  if(req_tfidf==0):\n",
        "    robo1_response = robo1_response + \"I am sorry! I don't understand you.\"\n",
        "    return robo1_response\n",
        "  else:\n",
        "    robo1_response = robo1_response + sent_tokens[idx]\n",
        "    return robo1_response\n",
        "\n",
        "  "
      ],
      "metadata": {
        "id": "ozUp_8a6MH_W"
      },
      "execution_count": 104,
      "outputs": []
    },
    {
      "cell_type": "code",
      "source": [
        "# import speech_recognition as sr\n",
        "# listener = sr.Recognizer()\n",
        "# def take_command():\n",
        "#     try:\n",
        "#         with sr.Microphone() as source:\n",
        "#             print('listening...')\n",
        "#             voice = listener.listen(source)\n",
        "#             command = listener.recognize_google(voice)\n",
        "#             command = command.lower()\n",
        "#     except:\n",
        "#         pass\n",
        "#     return command"
      ],
      "metadata": {
        "id": "rvb-SQ6GBc2H"
      },
      "execution_count": 105,
      "outputs": []
    },
    {
      "cell_type": "code",
      "source": [
        "is_chatting = True\n",
        "print(\"CHATBOT: I am JARVIS. Let's chat, stranger! Also, if you want to exit, just type Bye.\")\n",
        "while(is_chatting):\n",
        "  user_response = input()\n",
        "  user_response = user_response.lower()\n",
        "  if(user_response!='bye'):\n",
        "    if(user_response=='thanks' or user_response=='thank you'):\n",
        "      is_chatting=False\n",
        "      print(\"CHATBOT: You are welcome.\")\n",
        "    else:\n",
        "      if(greet(user_response)!=None):\n",
        "        print(\"CHATBOT: \"+ greet(user_response))\n",
        "      else:\n",
        "        sent_tokens.append(user_response)\n",
        "        word_tokens = word_tokens + nltk.word_tokenize(user_response)\n",
        "        final_words = list(set(word_tokens))\n",
        "        print(\"CHATBOT: \", end = \"\")\n",
        "        print(response(user_response))\n",
        "        sent_tokens.remove(user_response)\n",
        "\n",
        "  else:\n",
        "    is_chatting=False\n",
        "    print(\"CHATBOT: Goodbye, friend.\")"
      ],
      "metadata": {
        "id": "ogefHXPn2Wo0"
      },
      "execution_count": null,
      "outputs": []
    }
  ]
}